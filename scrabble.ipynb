{
 "cells": [
  {
   "attachments": {},
   "cell_type": "markdown",
   "id": "animal-nowhere",
   "metadata": {},
   "source": [
    "# IEEE PES GM Resource Adequacy Tutorial\n",
    "Supporting code for explanation of Monte Carlo sampling. \n",
    "Simon Tindemans, 2024.\n"
   ]
  },
  {
   "cell_type": "code",
   "execution_count": null,
   "id": "vietnamese-crack",
   "metadata": {},
   "outputs": [],
   "source": [
    "import matplotlib.pyplot as plt\n",
    "import matplotlib.patches\n",
    "import random\n",
    "\n",
    "# Define letter scores and frequencies\n",
    "# Scrabble tile data from https://github.com/jessicatysu/scrabble \n",
    "\n",
    "score = { \n",
    "'A': 1, \\\n",
    "'B': 3, \\\n",
    "'C': 3, \\\n",
    "'D': 2, \\\n",
    "'E': 1, \\\n",
    "'F': 4, \\\n",
    "'G': 2, \\\n",
    "'H': 4, \\\n",
    "'I': 1, \\\n",
    "'J': 8, \\\n",
    "'K': 5, \\\n",
    "'L': 1, \\\n",
    "'M': 3, \\\n",
    "'N': 1, \\\n",
    "'O': 1, \\\n",
    "'P': 3, \\\n",
    "'Q': 10, \\\n",
    "'R': 1, \\\n",
    "'S': 1, \\\n",
    "'T': 1, \\\n",
    "'U': 1, \\\n",
    "'V': 4, \\\n",
    "'W': 4, \\\n",
    "'X': 8, \\\n",
    "'Y': 4, \\\n",
    "'Z': 10, \\\n",
    "' ': ' '} # add the emtpy tiles\n",
    "\n",
    "frequency = {\n",
    "'A': 9, \\\n",
    "'B': 2, \\\n",
    "'C': 2, \\\n",
    "'D': 4, \\\n",
    "'E': 12, \\\n",
    "'F': 2, \\\n",
    "'G': 3, \\\n",
    "'H': 2, \\\n",
    "'I': 9, \\\n",
    "'J': 1, \\\n",
    "'K': 1, \\\n",
    "'L': 4, \\\n",
    "'M': 2, \\\n",
    "'N': 6, \\\n",
    "'O': 8, \\\n",
    "'P': 2, \\\n",
    "'Q': 1, \\\n",
    "'R': 6, \\\n",
    "'S': 4, \\\n",
    "'T': 6, \\\n",
    "'U': 4, \\\n",
    "'V': 2, \\\n",
    "'W': 2, \\\n",
    "'X': 1, \\\n",
    "'Y': 2, \\\n",
    "'Z': 1, \\\n",
    "' ': 2}  # two empty tiles; see https://scrabble.hasbro.com/en-us/faq \n",
    "\n",
    "# define functions\n",
    "\n",
    "def random_tile():\n",
    "    bag_letters, letter_weights = zip(*frequency.items())\n",
    "    letter = random.choices(bag_letters, weights=letter_weights)[0]\n",
    "    return {'letter': letter, 'score': score[letter]}\n",
    "\n",
    "\n",
    "def display_tile(tile):\n",
    "    ax = plt.gca()\n",
    "    rect = matplotlib.patches.Rectangle((0,0),1,1,linewidth=1,edgecolor='k',facecolor='#ffffcc')\n",
    "    ax.add_patch(rect)\n",
    "    plt.axis('off')\n",
    "    plt.axis('scaled')\n",
    "    plt.text(0.5, 0.5, tile['letter'], fontsize=120, horizontalalignment='center', verticalalignment='center')\n",
    "    plt.text(0.85, 0.15, str(tile['score']), fontsize=40, horizontalalignment='center', verticalalignment='center')\n",
    "    plt.show()"
   ]
  },
  {
   "cell_type": "markdown",
   "id": "configured-chapel",
   "metadata": {},
   "source": [
    "## Random draws\n",
    "\n",
    "Execute the cell below to draw and display a random Scrabble tile"
   ]
  },
  {
   "cell_type": "code",
   "execution_count": null,
   "id": "finite-approach",
   "metadata": {
    "scrolled": true
   },
   "outputs": [],
   "source": [
    "display_tile(random_tile())"
   ]
  }
 ],
 "metadata": {
  "kernelspec": {
   "display_name": "Python 3",
   "language": "python",
   "name": "python3"
  },
  "language_info": {
   "codemirror_mode": {
    "name": "ipython",
    "version": 3
   },
   "file_extension": ".py",
   "mimetype": "text/x-python",
   "name": "python",
   "nbconvert_exporter": "python",
   "pygments_lexer": "ipython3",
   "version": "3.12.4"
  }
 },
 "nbformat": 4,
 "nbformat_minor": 5
}
